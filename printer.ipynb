{
 "cells": [
  {
   "cell_type": "code",
   "execution_count": null,
   "metadata": {},
   "outputs": [],
   "source": [
    "import csv\n",
    "import pandas as pd\n",
    "import matplotlib.pyplot as plt\n",
    "import numpy as np"
   ]
  },
  {
   "cell_type": "code",
   "execution_count": null,
   "metadata": {},
   "outputs": [],
   "source": [
    "with open('phsd.csv.statistics', newline='\\n') as csvfile:\n",
    "    reader = csv.reader(csvfile, delimiter=';', quotechar='|')\n",
    "    data = list(map(\n",
    "        lambda x: list(map(lambda y: y.strip(), x[1])) if (x[0] == 0) else list(map(float, x[1])),\n",
    "        enumerate(reader)\n",
    "    ))\n",
    "    df = pd.DataFrame(data[1:], columns=data[0])\n",
    "\n",
    "    for i in df:\n",
    "        \n",
    "        plt.hist(df[i], bins=100)\n",
    "        mid = sum(df[i]) / len(df[i])\n",
    "        sigma = (sum((df[i] - mid)**2))**(0.5) / (len(df[i]) * (len(df[i]) - 1))\n",
    "        plt.title(i + f\" = {mid}$\\pm${sigma}|{min(df[i])}, {max(df[i])}\")\n",
    "        plt.show()\n",
    "    print(len(df))"
   ]
  },
  {
   "cell_type": "code",
   "execution_count": null,
   "metadata": {},
   "outputs": [],
   "source": [
    "\n",
    "dt = None\n",
    "\n",
    "with open('phsd.csv.stat', newline='\\n') as csvfile:\n",
    "    reader = csv.reader(csvfile, delimiter=';', quotechar='|')\n",
    "    data = list(map(\n",
    "        lambda x: list(map(lambda y: y.strip(), x[1])) if (x[0] == 0) else list(map(float, x[1])),\n",
    "        enumerate(reader)\n",
    "    ))\n",
    "    df = pd.DataFrame(data[1:], columns=data[0])\n",
    "\n",
    "    for i in df:\n",
    "        \n",
    "        plt.hist(df[i], bins=100)\n",
    "        mid = sum(df[i]) / len(df[i])\n",
    "        sigma = (sum((df[i] - mid)**2))**(0.5) / (len(df[i]) * (len(df[i]) - 1))\n",
    "        plt.title(i + f\" = {mid}$\\pm${sigma}|{min(df[i])}, {max(df[i])}\")\n",
    "        plt.show()\n",
    "    print(len(df))\n",
    "    dt = df"
   ]
  },
  {
   "cell_type": "code",
   "execution_count": null,
   "metadata": {},
   "outputs": [],
   "source": [
    "dt"
   ]
  },
  {
   "cell_type": "code",
   "execution_count": null,
   "metadata": {},
   "outputs": [],
   "source": [
    "def buildHistAlice(dNu, Alice, others, label=\"other\", log=False, marker=\"*\", frac=False):\n",
    "    \n",
    "    if log:\n",
    "        plt.figure().set_size_inches(15, 15)\n",
    "        plt.rc('axes', labelsize=25)\n",
    "        plt.rc('legend', fontsize=25)\n",
    "        plt.tick_params(axis='x', labelsize=32)\n",
    "        plt.tick_params(axis='y', labelsize=32)\n",
    "        \n",
    "        plt.yscale(\"log\")\n",
    "    else:\n",
    "        plt.figure().set_size_inches(10, 10)\n",
    "        plt.rc('axes', labelsize=20)\n",
    "        plt.rc('legend', fontsize=20)\n",
    "        plt.tick_params(axis='x', labelsize=30)\n",
    "        plt.tick_params(axis='y', labelsize=30)\n",
    "\n",
    "    \n",
    "    if frac:\n",
    "        plt.errorbar(Alice.loc[:, \"$N_{ch}$\"], Alice.loc[:, \"$P(N_{ch})$\"]/Alice.loc[:, \"$P(N_{ch})$\"], yerr=Alice.loc[:, \"error +\"]/Alice.loc[:, \"$P(N_{ch})$\"], fmt=\"or\",ecolor=\"red\", elinewidth=2, label=\"ALICE\", capsize=2)\n",
    "    else:\n",
    "        plt.errorbar(Alice.loc[:, \"$N_{ch}$\"], Alice.loc[:, \"$P(N_{ch})$\"], yerr=Alice.loc[:, \"error +\"], fmt=\"or\",ecolor=\"red\", elinewidth=2, label=\"ALICE\", capsize=2)\n",
    "\n",
    "    # bins = Alice.loc[:, \"$N_{ch}$\"] - (Alice.loc[:, \"$N_{ch}$\"][1] - Alice.loc[:, \"$N_{ch}$\"][0])/2\n",
    "    bins = list(Alice.loc[:, \"$N_{ch}$ LOW\"])\n",
    "    bins.append(bins[-1]+1)\n",
    "    bins = np.array(bins)\n",
    "    print(bins)\n",
    "    sigmas = {}\n",
    "        \n",
    "    muls = np.histogram(others, bins=bins, density=False)\n",
    "    print(muls)\n",
    "    muls = list(muls)\n",
    "    muls[0] = muls[0] / len(others)\n",
    "    if frac:\n",
    "        muls[0] =  np.array(muls[0]) / Alice.loc[:, \"$P(N_{ch})$\"]\n",
    "    print(len(muls[0]), len(Alice.loc[:, \"$N_{ch}$\"]))\n",
    "    plt.scatter(Alice.loc[:, \"$N_{ch}$\"], muls[0], label=label, zorder=3, marker=marker, s=70, color=(0, 0, 0, 0.5))\n",
    "    sigmas[label] = np.sqrt(sum((muls[0] - Alice.loc[:, \"$P(N_{ch})$\"])**2) / (len(muls[0])) )\n",
    "\n",
    "    plt.xlabel(\"$N_{ch}$ \" + f\", $|\\\\eta|\\\\leq {dNu}$\")\n",
    "    if not frac:\n",
    "        plt.ylabel(\"$N/N_{events}$\")\n",
    "    else :\n",
    "        plt.ylabel(\"$Model/Data$\")\n",
    "    # plt.title(f\"Multiplicity\")\n",
    "    plt.legend()\n",
    "\n",
    "    if frac:\n",
    "        plt.ylim(0, 2)\n",
    "\n",
    "    if not log:\n",
    "        plt.xlim(-1, 60)\n",
    "    \n",
    "    return sigmas\n"
   ]
  },
  {
   "cell_type": "code",
   "execution_count": null,
   "metadata": {},
   "outputs": [],
   "source": [
    "Alice = pd.read_csv('./data/hepdata/HEPData-ins1394854-v1-Table_36.csv', delimiter=\",\")\n",
    "\n",
    "print(\"ALice readed\")\n",
    "\n",
    "resz = buildHistAlice(1.5, Alice, dt[\"PseudorapidityFilterCnt(-1.5, 1.5)\"], label=\"phqmd\")\n",
    "\n",
    "print(resz)\n",
    "# print(reszlog)"
   ]
  },
  {
   "cell_type": "code",
   "execution_count": null,
   "metadata": {},
   "outputs": [],
   "source": [
    "Alice = pd.read_csv('./data/hepdata/HEPData-ins1394854-v1-Table_35.csv', delimiter=\",\")\n",
    "\n",
    "print(\"ALice readed\")\n",
    "\n",
    "resz = buildHistAlice(1.0, Alice, dt[\"PseudorapidityFilterCnt(-1.0, 1.0)\"], label=\"phqmd\")\n",
    "\n",
    "print(resz)\n",
    "# print(reszlog)"
   ]
  },
  {
   "cell_type": "code",
   "execution_count": null,
   "metadata": {},
   "outputs": [],
   "source": [
    "Alice = pd.read_csv('./data/hepdata/HEPData-ins1394854-v1-Table_34.csv', delimiter=\",\")\n",
    "\n",
    "print(\"ALice readed\")\n",
    "\n",
    "resz = buildHistAlice(0.5, Alice, dt[\"PseudorapidityFilterCnt(-0.5, 0.5)\"], label=\"phqmd\")\n",
    "\n",
    "print(resz)\n",
    "# print(reszlog)"
   ]
  },
  {
   "cell_type": "code",
   "execution_count": null,
   "metadata": {},
   "outputs": [],
   "source": [
    "(7000.0**2 - 4 * (0.93827)**2) / (2 * 0.93827)"
   ]
  },
  {
   "cell_type": "code",
   "execution_count": null,
   "metadata": {},
   "outputs": [],
   "source": [
    "((7000.0+0.09)**2 - 4 * (0.93827)**2) / (2 * 0.93827)"
   ]
  },
  {
   "cell_type": "code",
   "execution_count": null,
   "metadata": {},
   "outputs": [],
   "source": [
    "T = ( ((26111884.8 * (2 * 0.93827)) + (4 * (0.93827)**2)) )**0.5\n",
    "(T**2 + (2*0.93827)**2)**0.5"
   ]
  },
  {
   "cell_type": "code",
   "execution_count": null,
   "metadata": {},
   "outputs": [],
   "source": [
    "26111884.89379263\n",
    "26111885\n",
    "26120000"
   ]
  },
  {
   "cell_type": "code",
   "execution_count": null,
   "metadata": {},
   "outputs": [],
   "source": [
    "with open('N(Nu)-5555990-phqmd.csv.stat', newline='\\n') as csvfile:\n",
    "    reader = csv.reader(csvfile, delimiter=';', quotechar='|')\n",
    "    data = list(map(\n",
    "        lambda x: list(map(lambda y: y.strip(), x[1])) if (x[0] == 0) else list(map(float, x[1])),\n",
    "        enumerate(reader)\n",
    "    ))\n",
    "    df = pd.DataFrame(data[1:], columns=data[0])\n",
    "\n",
    "    x = list(df[\"lbin\"]) # + df[\"rbin\"]) / 2)\n",
    "    y = list(df[\"value\"])[:-1]\n",
    "\n",
    "    plt.stairs(y, x)"
   ]
  }
 ],
 "metadata": {
  "kernelspec": {
   "display_name": "Python 3",
   "language": "python",
   "name": "python3"
  },
  "language_info": {
   "codemirror_mode": {
    "name": "ipython",
    "version": 3
   },
   "file_extension": ".py",
   "mimetype": "text/x-python",
   "name": "python",
   "nbconvert_exporter": "python",
   "pygments_lexer": "ipython3",
   "version": "3.9.6"
  }
 },
 "nbformat": 4,
 "nbformat_minor": 2
}
